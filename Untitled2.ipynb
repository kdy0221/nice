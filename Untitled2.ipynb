{
  "nbformat": 4,
  "nbformat_minor": 0,
  "metadata": {
    "colab": {
      "name": "Untitled2.ipynb",
      "provenance": [],
      "authorship_tag": "ABX9TyNZYiHlta7FDcWKZPIUCNJC",
      "include_colab_link": true
    },
    "kernelspec": {
      "name": "python3",
      "display_name": "Python 3"
    },
    "language_info": {
      "name": "python"
    }
  },
  "cells": [
    {
      "cell_type": "markdown",
      "metadata": {
        "id": "view-in-github",
        "colab_type": "text"
      },
      "source": [
        "<a href=\"https://colab.research.google.com/github/kdy0221/nice/blob/main/Untitled2.ipynb\" target=\"_parent\"><img src=\"https://colab.research.google.com/assets/colab-badge.svg\" alt=\"Open In Colab\"/></a>"
      ]
    },
    {
      "cell_type": "code",
      "execution_count": 13,
      "metadata": {
        "id": "GO6PJeEOJbtq"
      },
      "outputs": [],
      "source": [
        "삼성전자=\"50000\""
      ]
    },
    {
      "cell_type": "code",
      "source": [
        "print(삼성전자)"
      ],
      "metadata": {
        "colab": {
          "base_uri": "https://localhost:8080/"
        },
        "id": "qTulgQf7PdYh",
        "outputId": "6ce1cea8-1fae-48a0-cef1-59d9479ed0bf"
      },
      "execution_count": 14,
      "outputs": [
        {
          "output_type": "stream",
          "name": "stdout",
          "text": [
            "50000\n"
          ]
        }
      ]
    },
    {
      "cell_type": "code",
      "source": [
        "age=10"
      ],
      "metadata": {
        "id": "MF27ObiqPvHt"
      },
      "execution_count": 15,
      "outputs": []
    },
    {
      "cell_type": "code",
      "source": [
        "print(삼성전자*age)"
      ],
      "metadata": {
        "colab": {
          "base_uri": "https://localhost:8080/"
        },
        "id": "O8mV6QVSPyV3",
        "outputId": "94dc72e7-1624-4547-d527-311f623153e9"
      },
      "execution_count": 26,
      "outputs": [
        {
          "output_type": "stream",
          "name": "stdout",
          "text": [
            "50000500005000050000500005000050000500005000050000\n"
          ]
        }
      ]
    },
    {
      "cell_type": "code",
      "source": [
        "삼성전자=50000                                                                                                                                                                                                  "
      ],
      "metadata": {
        "id": "ZZsVP6maR0Bu"
      },
      "execution_count": 41,
      "outputs": []
    },
    {
      "cell_type": "code",
      "source": [
        ""
      ],
      "metadata": {
        "id": "95RYBYfQScOR"
      },
      "execution_count": null,
      "outputs": []
    },
    {
      "cell_type": "code",
      "source": [
        "string=\"홀짝홀짝홀짝\""
      ],
      "metadata": {
        "id": "1SCzVAzVNcvo"
      },
      "execution_count": 18,
      "outputs": []
    },
    {
      "cell_type": "code",
      "source": [
        "string[0]"
      ],
      "metadata": {
        "colab": {
          "base_uri": "https://localhost:8080/",
          "height": 35
        },
        "id": "EAc_bhNBOV_g",
        "outputId": "31db52b0-07ff-44a6-bf14-291c2267782a"
      },
      "execution_count": 7,
      "outputs": [
        {
          "output_type": "execute_result",
          "data": {
            "text/plain": [
              "'홀'"
            ],
            "application/vnd.google.colaboratory.intrinsic+json": {
              "type": "string"
            }
          },
          "metadata": {},
          "execution_count": 7
        }
      ]
    },
    {
      "cell_type": "code",
      "source": [
        "string=\"python\""
      ],
      "metadata": {
        "id": "TlizsvUqOmtp"
      },
      "execution_count": 8,
      "outputs": []
    },
    {
      "cell_type": "code",
      "source": [
        "string"
      ],
      "metadata": {
        "colab": {
          "base_uri": "https://localhost:8080/",
          "height": 130
        },
        "id": "aiP2uAGrOxyg",
        "outputId": "2ae4671f-8453-4a12-a90f-d89d4cbcc708"
      },
      "execution_count": 11,
      "outputs": [
        {
          "output_type": "error",
          "ename": "SyntaxError",
          "evalue": "ignored",
          "traceback": [
            "\u001b[0;36m  File \u001b[0;32m\"<ipython-input-11-2f24bc70cee2>\"\u001b[0;36m, line \u001b[0;32m1\u001b[0m\n\u001b[0;31m    string[5 4 3 2 1 0]\u001b[0m\n\u001b[0m             ^\u001b[0m\n\u001b[0;31mSyntaxError\u001b[0m\u001b[0;31m:\u001b[0m invalid syntax\n"
          ]
        }
      ]
    },
    {
      "cell_type": "code",
      "source": [
        "nums=[1,2,3,4,5,6,7,8,9,10]"
      ],
      "metadata": {
        "id": "NyPJgHUVQX9T"
      },
      "execution_count": 27,
      "outputs": []
    },
    {
      "cell_type": "code",
      "source": [
        "짝수=[2,4,6,8,10]"
      ],
      "metadata": {
        "id": "4kUSE1VfQX3A"
      },
      "execution_count": 32,
      "outputs": []
    },
    {
      "cell_type": "code",
      "source": [
        "nums.pop(0,2,4,6,8)"
      ],
      "metadata": {
        "colab": {
          "base_uri": "https://localhost:8080/",
          "height": 164
        },
        "id": "nYcpI33LRcXe",
        "outputId": "93e8a858-3a6e-4bb4-92ab-b884ba9eef62"
      },
      "execution_count": 43,
      "outputs": [
        {
          "output_type": "error",
          "ename": "TypeError",
          "evalue": "ignored",
          "traceback": [
            "\u001b[0;31m---------------------------------------------------------------------------\u001b[0m",
            "\u001b[0;31mTypeError\u001b[0m                                 Traceback (most recent call last)",
            "\u001b[0;32m<ipython-input-43-67f964a5e229>\u001b[0m in \u001b[0;36m<module>\u001b[0;34m()\u001b[0m\n\u001b[0;32m----> 1\u001b[0;31m \u001b[0mnums\u001b[0m\u001b[0;34m.\u001b[0m\u001b[0mpop\u001b[0m\u001b[0;34m(\u001b[0m\u001b[0;36m0\u001b[0m\u001b[0;34m,\u001b[0m\u001b[0;36m2\u001b[0m\u001b[0;34m,\u001b[0m\u001b[0;36m4\u001b[0m\u001b[0;34m,\u001b[0m\u001b[0;36m6\u001b[0m\u001b[0;34m,\u001b[0m\u001b[0;36m8\u001b[0m\u001b[0;34m)\u001b[0m\u001b[0;34m\u001b[0m\u001b[0;34m\u001b[0m\u001b[0m\n\u001b[0m",
            "\u001b[0;31mTypeError\u001b[0m: pop() takes at most 1 argument (5 given)"
          ]
        }
      ]
    },
    {
      "cell_type": "code",
      "source": [
        "nums-=[2,4,6,8]"
      ],
      "metadata": {
        "colab": {
          "base_uri": "https://localhost:8080/",
          "height": 164
        },
        "id": "Ynq-Rn6LTJfO",
        "outputId": "0e5a6e4e-fd27-4be1-d2f2-7a4162946986"
      },
      "execution_count": 45,
      "outputs": [
        {
          "output_type": "error",
          "ename": "TypeError",
          "evalue": "ignored",
          "traceback": [
            "\u001b[0;31m---------------------------------------------------------------------------\u001b[0m",
            "\u001b[0;31mTypeError\u001b[0m                                 Traceback (most recent call last)",
            "\u001b[0;32m<ipython-input-45-e7c303f12d45>\u001b[0m in \u001b[0;36m<module>\u001b[0;34m()\u001b[0m\n\u001b[0;32m----> 1\u001b[0;31m \u001b[0mnums\u001b[0m\u001b[0;34m-=\u001b[0m\u001b[0;34m[\u001b[0m\u001b[0;36m2\u001b[0m\u001b[0;34m,\u001b[0m\u001b[0;36m4\u001b[0m\u001b[0;34m,\u001b[0m\u001b[0;36m6\u001b[0m\u001b[0;34m,\u001b[0m\u001b[0;36m8\u001b[0m\u001b[0;34m]\u001b[0m\u001b[0;34m\u001b[0m\u001b[0;34m\u001b[0m\u001b[0m\n\u001b[0m",
            "\u001b[0;31mTypeError\u001b[0m: unsupported operand type(s) for -=: 'list' and 'list'"
          ]
        }
      ]
    },
    {
      "cell_type": "code",
      "source": [
        "nums.remove(2,4,6,8)"
      ],
      "metadata": {
        "colab": {
          "base_uri": "https://localhost:8080/",
          "height": 164
        },
        "id": "t-owdi5qT9_w",
        "outputId": "3492ad5c-10c2-4b97-9b5e-f23b1187a72d"
      },
      "execution_count": 46,
      "outputs": [
        {
          "output_type": "error",
          "ename": "TypeError",
          "evalue": "ignored",
          "traceback": [
            "\u001b[0;31m---------------------------------------------------------------------------\u001b[0m",
            "\u001b[0;31mTypeError\u001b[0m                                 Traceback (most recent call last)",
            "\u001b[0;32m<ipython-input-46-83ec17a30716>\u001b[0m in \u001b[0;36m<module>\u001b[0;34m()\u001b[0m\n\u001b[0;32m----> 1\u001b[0;31m \u001b[0mnums\u001b[0m\u001b[0;34m.\u001b[0m\u001b[0mremove\u001b[0m\u001b[0;34m(\u001b[0m\u001b[0;36m2\u001b[0m\u001b[0;34m,\u001b[0m\u001b[0;36m4\u001b[0m\u001b[0;34m,\u001b[0m\u001b[0;36m6\u001b[0m\u001b[0;34m,\u001b[0m\u001b[0;36m8\u001b[0m\u001b[0;34m)\u001b[0m\u001b[0;34m\u001b[0m\u001b[0;34m\u001b[0m\u001b[0m\n\u001b[0m",
            "\u001b[0;31mTypeError\u001b[0m: remove() takes exactly one argument (4 given)"
          ]
        }
      ]
    },
    {
      "cell_type": "code",
      "source": [
        "원정상은 님은 임포스터가 아니였습니다 망했다 소환사의 협곡의 오신 것을 환영합니다 바이에르 뮌헨에 올타임 레전드 미하엘 발락~~~siu~~~수헬리배붕탄질산 플네나마알규인황 염화칼칼 마하반야 봤다봤다고 밀다 끌다 당기다"
      ],
      "metadata": {
        "colab": {
          "base_uri": "https://localhost:8080/",
          "height": 130
        },
        "id": "XSntzQ3QUOeG",
        "outputId": "70a6c7c0-811b-473f-b750-cb603414f5c7"
      },
      "execution_count": 47,
      "outputs": [
        {
          "output_type": "error",
          "ename": "SyntaxError",
          "evalue": "ignored",
          "traceback": [
            "\u001b[0;36m  File \u001b[0;32m\"<ipython-input-47-4535563243b7>\"\u001b[0;36m, line \u001b[0;32m1\u001b[0m\n\u001b[0;31m    원정상은 님은 임포스터가 아니였습니다 망했다 소환사의 협곡의 오신 것을 환영합니다 바이에르 뮌헨에 올타임 레전드 미하엘 발락~~~siu~~~수헬리배붕탄질산 플네나마알규인황 염화칼칼 마하반야 봤다봤다고 밀다 끌다 당기다\u001b[0m\n\u001b[0m          ^\u001b[0m\n\u001b[0;31mSyntaxError\u001b[0m\u001b[0;31m:\u001b[0m invalid syntax\n"
          ]
        }
      ]
    },
    {
      "cell_type": "code",
      "source": [
        "정성정성정성정성정성정성정성정성정성정성정성정성정성정성정성정성정성정성정성정성정성정성정성정성정성정성정성정성정성정성정성정성정성정성정성정성\n",
        "정성정성정성정성정성정성정성정성정성정성정성정성정성정성정성정성정성정성정성정성정성정성정성정성정성정성정성정성정성정성정성정성정성정성정성정성정성정성정성\n",
        "정성정성정성정성정성정성정성정성정성정성정성정성정성정성정성정성정성정성정성정성정성정성정성정성정성정성정성정성정성정성정성정성정성ㅍ\n",
        "정성정성정성정성정성정성정성정성정성정성정성정성정성정성정성정성정성정성정성정성정성정성정성정성정성정성정성정성정성정성정성정성정성정성정성정성정성정성정성\n",
        "정성정성정성정성정성정성정성정성정성정성정성정성정성정성정성정성정성정성정성정성정성정성정성정성정성정성정성정성정성정성정성정성정성정성정성정성정성정성정성정성정성정성정성정성정성정성정성정성정성정성정성\n",
        "정성정성정성정성정성정성정성정성정성정성정성정성정성정성정성정성정성정성정성정성정성정성정성정성정성정성정성정성정성정성정성정성정성ㅍㅍ\n",
        "ㅍ정성정성정성정성정성정성정성정성정성정성정성정성정성정성정성정성정성정성정성정성정성정성정성정성정성정성정성정성정성정성정성정성정성정성정성정성정성정성정성정성정성정성ㅍ\n",
        "ㅍ정성정성정성정성정성정성정성정성정성정성정성정성정성정성정성정성정성정성정성정성정성정성정성정성정성정성정성정성정성정성정성정성정성정성정성정성정성정성정성\n",
        "ㅍㅍㅍㅍㅍㅍㅍㅍ정성정성정성정성정성정성정성정성정성정성정성정성정성정성정성정성정성정성정성정성정성정성정성정성정성정성정성정성정성정성정성정성정성정성정성정성정성정성정성\n",
        "정성정성정성정성정성정성정성정성정성정성정성정성정성정성정성정성정성정성정성정성정성정성정성정성정성정성정성정성정성정성정성정성정성정성정성정성정성정성정성정성정성정성\n",
        "정성정성정성정성정성정성정성정성정성정성정성정성정성정성정성정성정성정성정성정성정성정성정성정성정성정성정성정성정성정성정성정성정성정성정성정성\n",
        "정성정성정성정성정성정성정성정성정성정성정성정성정성정성정성정성정성정성정성정성정성정성정성정성정성정성정성정성정성정성정성정성정성정성정성정성정성정성정성정성정성정성\n",
        "ㅍ정성정성정성정성정성정성정성정성정성정성정성정성정성정성정성정성정성정성정성정성정성정성정성정성정성정성정성정성정성정성정성정성정성정성정성정성정성정성정성정성정성정성\n",
        "ㅍ정성정성정성정성정성정성정성정성정성정성정성정성정성정성정성정성정성정성정성정성정성정성정성정성정성정성정성정성정성정성정성정성정성정성정성정성정성정성정성정성정성정성정성정성정성정성정성정성정성정성정성정성정성정성\n",
        "정성정성정성정성정성정성정성정성정성정성정성정성정성정성정성정성정성정성정성정성정성정성정성정성정성정성정성ㅍㅍ\n",
        "정성정성정성정성정성정성정성정성정성정성정성정성ㅍㅍㅍㅍㅍㅍㅍㅍㅍㅍㅍ\n",
        "정성정성정성정성정성정성정성정성정성정성정성정성정성정성정성정성정성정성정성정성정성정성정성정성정성정성정성정성정성정성정성정성정성정성정성정성정성정성정성정성정성정성정성정성정성ㅍㅍ"
      ],
      "metadata": {
        "colab": {
          "base_uri": "https://localhost:8080/",
          "height": 232
        },
        "id": "8U33qodsYBvr",
        "outputId": "a5314ea6-7788-4924-e7a1-6a1f30d84ac4"
      },
      "execution_count": 52,
      "outputs": [
        {
          "output_type": "error",
          "ename": "NameError",
          "evalue": "ignored",
          "traceback": [
            "\u001b[0;31m---------------------------------------------------------------------------\u001b[0m",
            "\u001b[0;31mNameError\u001b[0m                                 Traceback (most recent call last)",
            "\u001b[0;32m<ipython-input-52-eaeeb4f895e2>\u001b[0m in \u001b[0;36m<module>\u001b[0;34m()\u001b[0m\n\u001b[0;32m----> 1\u001b[0;31m \u001b[0m정성정성정성정성정성정성정성정성정성정성정성정성정성정성정성정성정성정성정성정성정성정성정성정성정성정성정성정성정성정성정성정성정성정성정성정성\u001b[0m\u001b[0;34m\u001b[0m\u001b[0;34m\u001b[0m\u001b[0m\n\u001b[0m\u001b[1;32m      2\u001b[0m \u001b[0m정성정성정성정성정성정성정성정성정성정성정성정성정성정성정성정성정성정성정성정성정성정성정성정성정성정성정성정성정성정성정성정성정성정성정성정성정성정성정성\u001b[0m\u001b[0;34m\u001b[0m\u001b[0;34m\u001b[0m\u001b[0m\n\u001b[1;32m      3\u001b[0m \u001b[0m정성정성정성정성정성정성정성정성정성정성정성정성정성정성정성정성정성정성정성정성정성정성정성정성정성정성정성정성정성정성정성정성정성ㅍ\u001b[0m\u001b[0;34m\u001b[0m\u001b[0;34m\u001b[0m\u001b[0m\n\u001b[1;32m      4\u001b[0m \u001b[0m정성정성정성정성정성정성정성정성정성정성정성정성정성정성정성정성정성정성정성정성정성정성정성정성정성정성정성정성정성정성정성정성정성정성정성정성정성정성정성\u001b[0m\u001b[0;34m\u001b[0m\u001b[0;34m\u001b[0m\u001b[0m\n\u001b[1;32m      5\u001b[0m \u001b[0m정성정성정성정성정성정성정성정성정성정성정성정성정성정성정성정성정성정성정성정성정성정성정성정성정성정성정성정성정성정성정성정성정성정성정성정성정성정성정성정성정성정성정성정성정성정성정성정성정성정성정성\u001b[0m\u001b[0;34m\u001b[0m\u001b[0;34m\u001b[0m\u001b[0m\n",
            "\u001b[0;31mNameError\u001b[0m: name '정성정성정성정성정성정성정성정성정성정성정성정성정성정성정성정성정성정성정성정성정성정성정성정성정성정성정성정성정성정성정성정성정성�' is not defined"
          ]
        }
      ]
    },
    {
      "cell_type": "code",
      "source": [
        ""
      ],
      "metadata": {
        "id": "TTzegondYTr9"
      },
      "execution_count": null,
      "outputs": []
    }
  ]
}